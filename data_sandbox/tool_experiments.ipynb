{
 "cells": [
  {
   "cell_type": "code",
   "execution_count": 23,
   "metadata": {
    "collapsed": true
   },
   "outputs": [],
   "source": []
  },
  {
   "cell_type": "code",
   "execution_count": 24,
   "outputs": [],
   "source": [
    "# Imports\n",
    "import pandas as pd\n",
    "import numpy as np\n",
    "from matplotlib import pyplot as plt\n",
    "from scipy.signal import argrelextrema, chirp, find_peaks, peak_widths"
   ],
   "metadata": {
    "collapsed": false,
    "pycharm": {
     "name": "#%%\n"
    }
   }
  },
  {
   "cell_type": "code",
   "execution_count": 25,
   "outputs": [],
   "source": [
    "# Load the data\n",
    "\n",
    "data_screw = pd.read_csv('../test_results/test_loaded.csv',\n",
    "                   delimiter=' ')\n",
    "\n",
    "data_screw_1 = pd.read_csv('../test_results/screw_test_1.csv',\n",
    "                   delimiter=' ')\n",
    "\n",
    "data_experiment = pd.read_csv('../test_results/test_joint.csv',\n",
    "                   delimiter=' ')\n",
    "\n",
    "data = data_screw.iloc[:1000]"
   ],
   "metadata": {
    "collapsed": false,
    "pycharm": {
     "name": "#%%\n"
    }
   }
  },
  {
   "cell_type": "code",
   "execution_count": 26,
   "outputs": [],
   "source": [
    "# Find local maxima and minima\n",
    "indicator_sensor = data['target_qd_3'].values\n",
    "\n",
    "top_threshold_value = 0.4\n",
    "low_threshold_value = -0.4\n",
    "\n",
    "top_thresholded = np.where(indicator_sensor > top_threshold_value, indicator_sensor, 0)\n",
    "low_thresholded = np.where(indicator_sensor < low_threshold_value, indicator_sensor, 0)\n",
    "\n",
    "local_maxima = argrelextrema(top_thresholded, np.greater)[0]\n",
    "local_minima = argrelextrema(low_thresholded, np.less)[0]\n",
    "\n",
    "# Find corresponding samples in data\n",
    "df_maxima = data.iloc[local_maxima]\n",
    "df_minima = data.iloc[local_minima]"
   ],
   "metadata": {
    "collapsed": false,
    "pycharm": {
     "name": "#%%\n"
    }
   }
  },
  {
   "cell_type": "code",
   "execution_count": 27,
   "outputs": [],
   "source": [
    "# Find the peaks\n",
    "peaks, _ = find_peaks(indicator_sensor)\n",
    "\n",
    "results_half = peak_widths(indicator_sensor, peaks, rel_height=0.5)\n",
    "results_full = peak_widths(indicator_sensor, peaks, rel_height=0.7)\n",
    "\n",
    "plt.plot(indicator_sensor)\n",
    "\n",
    "plt.plot(peaks, indicator_sensor[peaks], \"x\")\n",
    "\n",
    "plt.hlines(*results_half[1:], color=\"C2\")\n",
    "\n",
    "plt.hlines(*results_full[1:], color=\"C3\")\n",
    "\n",
    "plt.show()"
   ],
   "metadata": {
    "collapsed": false,
    "pycharm": {
     "name": "#%%\n"
    }
   }
  },
  {
   "cell_type": "code",
   "execution_count": 28,
   "outputs": [],
   "source": [
    "# TODO: Daniella will do second derivatives here in order to find the whole samples."
   ],
   "metadata": {
    "collapsed": false,
    "pycharm": {
     "name": "#%%\n"
    }
   }
  },
  {
   "cell_type": "code",
   "execution_count": 29,
   "outputs": [
    {
     "ename": "IndexError",
     "evalue": "list index out of range",
     "output_type": "error",
     "traceback": [
      "\u001B[1;31m---------------------------------------------------------------------------\u001B[0m",
      "\u001B[1;31mIndexError\u001B[0m                                Traceback (most recent call last)",
      "\u001B[1;32m<ipython-input-29-c6f7fa6b5dc4>\u001B[0m in \u001B[0;36m<module>\u001B[1;34m\u001B[0m\n\u001B[0;32m      6\u001B[0m     \u001B[0mi\u001B[0m \u001B[1;33m+=\u001B[0m \u001B[1;36m1\u001B[0m\u001B[1;33m\u001B[0m\u001B[1;33m\u001B[0m\u001B[0m\n\u001B[0;32m      7\u001B[0m     \u001B[0msamples_list\u001B[0m\u001B[1;33m.\u001B[0m\u001B[0mappend\u001B[0m\u001B[1;33m(\u001B[0m\u001B[0msample\u001B[0m\u001B[1;33m)\u001B[0m\u001B[1;33m\u001B[0m\u001B[1;33m\u001B[0m\u001B[0m\n\u001B[1;32m----> 8\u001B[1;33m \u001B[0msingle_sample\u001B[0m \u001B[1;33m=\u001B[0m \u001B[0msamples_list\u001B[0m\u001B[1;33m[\u001B[0m\u001B[1;36m2\u001B[0m\u001B[1;33m]\u001B[0m\u001B[1;33m\u001B[0m\u001B[1;33m\u001B[0m\u001B[0m\n\u001B[0m",
      "\u001B[1;31mIndexError\u001B[0m: list index out of range"
     ]
    }
   ],
   "source": [
    "# Create time-series samples\n",
    "samples_list = []\n",
    "i = 0\n",
    "for index, row in df_maxima.iterrows():\n",
    "    sample = data.iloc[df_minima.iloc[i].name:index]\n",
    "    i += 1\n",
    "    samples_list.append(sample)\n",
    "single_sample = samples_list[2]"
   ],
   "metadata": {
    "collapsed": false,
    "pycharm": {
     "name": "#%%\n"
    }
   }
  },
  {
   "cell_type": "code",
   "execution_count": 35,
   "outputs": [
    {
     "name": "stdout",
     "output_type": "stream",
     "text": [
      "[3094.133]\n"
     ]
    }
   ],
   "source": [
    "# Plot a single column\n",
    "%matplotlib qt\n",
    "\n",
    "tool_parameter = \"actual_TCP_pose_\"\n",
    "\n",
    "plt.plot(data['timestamp'], data[tool_parameter + \"0\"],\n",
    "        label='Line 0')\n",
    "\n",
    "plt.plot(data['timestamp'], data[tool_parameter + \"1\"],\n",
    "       label='Line 1')\n",
    "\n",
    "plt.plot(data['timestamp'], data[tool_parameter + \"2\"],\n",
    "       label='Line 2')\n",
    "\n",
    "plt.plot(data['timestamp'], data[tool_parameter + \"3\"],\n",
    "        label='Line 3')\n",
    "\n",
    "plt.plot(data['timestamp'], data[tool_parameter + \"4\"],\n",
    "        label='Line 4')\n",
    "\n",
    "plt.plot(data['timestamp'], data[tool_parameter + \"5\"],\n",
    "         label='Line 5')\n",
    "\n",
    "# Plot the found local maxima\n",
    "for index, row in df_maxima.iterrows():\n",
    "    plt.axvline(x=row['timestamp'],\n",
    "                color='green')\n",
    "\n",
    "# Plot the found local minima\n",
    "for index, row in df_minima.iterrows():\n",
    "    plt.axvline(x=row['timestamp'],\n",
    "                color='red')\n",
    "\n",
    "# # Plot the thresholds\n",
    "# plt.axhline(top_threshold_value,\n",
    "#            color='green',\n",
    "#             linestyle='--')\n",
    "#\n",
    "# plt.axhline(low_threshold_value,\n",
    "#            color='red',\n",
    "#            linestyle='--')\n",
    "\n",
    "# Shade the sample\n",
    "print(single_sample.head(1)['timestamp'].values)\n",
    "\n",
    "for sample in samples_list:\n",
    "    plt.axvspan(sample.head(1)['timestamp'].values[0],\n",
    "                sample.tail(1)['timestamp'].values[0],\n",
    "                facecolor='b', alpha=0.1)\n",
    "\n",
    "plt.tight_layout()\n",
    "plt.autoscale(enable=True, axis='x')\n",
    "plt.autoscale(enable=True, axis='y')\n",
    "plt.legend()\n",
    "plt.show()"
   ],
   "metadata": {
    "collapsed": false,
    "pycharm": {
     "name": "#%%\n"
    }
   }
  }
 ],
 "metadata": {
  "kernelspec": {
   "name": "pycharm-8dac9c70",
   "language": "python",
   "display_name": "PyCharm (anomaly_detection)"
  },
  "language_info": {
   "codemirror_mode": {
    "name": "ipython",
    "version": 2
   },
   "file_extension": ".py",
   "mimetype": "text/x-python",
   "name": "python",
   "nbconvert_exporter": "python",
   "pygments_lexer": "ipython2",
   "version": "2.7.6"
  }
 },
 "nbformat": 4,
 "nbformat_minor": 0
}