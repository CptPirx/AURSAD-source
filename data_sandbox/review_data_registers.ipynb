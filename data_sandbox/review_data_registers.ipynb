{
 "metadata": {
  "language_info": {
   "codemirror_mode": {
    "name": "ipython",
    "version": 3
   },
   "file_extension": ".py",
   "mimetype": "text/x-python",
   "name": "python",
   "nbconvert_exporter": "python",
   "pygments_lexer": "ipython3",
   "version": "3.8.5-final"
  },
  "orig_nbformat": 2,
  "kernelspec": {
   "name": "anomaly_detection",
   "language": "python",
   "display_name": "anomaly_detection"
  }
 },
 "nbformat": 4,
 "nbformat_minor": 2,
 "cells": [
  {
   "cell_type": "code",
   "execution_count": 83,
   "metadata": {},
   "outputs": [],
   "source": [
    "import numpy as np\n",
    "import matplotlib.pyplot as plt\n",
    "import pandas as pd\n",
    "\n",
    "from pathlib import Path"
   ]
  },
  {
   "cell_type": "code",
   "execution_count": 84,
   "metadata": {},
   "outputs": [
    {
     "data": {
      "text/plain": "   Achieved_torque\n0              0.0\n1              0.0\n2              0.0\n3              0.0\n4              0.0",
      "text/html": "<div>\n<style scoped>\n    .dataframe tbody tr th:only-of-type {\n        vertical-align: middle;\n    }\n\n    .dataframe tbody tr th {\n        vertical-align: top;\n    }\n\n    .dataframe thead th {\n        text-align: right;\n    }\n</style>\n<table border=\"1\" class=\"dataframe\">\n  <thead>\n    <tr style=\"text-align: right;\">\n      <th></th>\n      <th>Achieved_torque</th>\n    </tr>\n  </thead>\n  <tbody>\n    <tr>\n      <th>0</th>\n      <td>0.0</td>\n    </tr>\n    <tr>\n      <th>1</th>\n      <td>0.0</td>\n    </tr>\n    <tr>\n      <th>2</th>\n      <td>0.0</td>\n    </tr>\n    <tr>\n      <th>3</th>\n      <td>0.0</td>\n    </tr>\n    <tr>\n      <th>4</th>\n      <td>0.0</td>\n    </tr>\n  </tbody>\n</table>\n</div>"
     },
     "execution_count": 84,
     "metadata": {},
     "output_type": "execute_result"
    }
   ],
   "source": [
    "folder = \"../test_results\"\n",
    "filename = \"Check_values.csv\" # \"test_sd.csv\" # \"three_screw_test.csv\"\n",
    "file_path = Path(folder) / Path(filename)\n",
    "\n",
    "columns = [\n",
    "    'Status/Errors',\n",
    "    'Current_torque',\n",
    "    'Shank_position',\n",
    "    'Torque_gradient',\n",
    "    'Achieved_torque',\n",
    "    'Additional_results'\n",
    "]\n",
    "\n",
    "df = pd.read_csv(file_path, sep=\",\", header=None)\n",
    "df.columns = columns\n",
    "df.head()"
   ]
  },
  {
   "cell_type": "code",
   "execution_count": 85,
   "metadata": {},
   "outputs": [],
   "source": [
    "current_torque = df['Current_torque'] / 1000\n",
    "shank_position = df['Shank_position'] / 1000\n",
    "torque_gradient = df['Torque_gradient'] / 1000\n",
    "achieved_torque = df['Achieved_torque'] / 1000\n",
    "additional_results = df['Additional_results']"
   ]
  },
  {
   "cell_type": "code",
   "execution_count": 86,
   "outputs": [
    {
     "name": "stdout",
     "output_type": "stream",
     "text": [
      "[0.]\n",
      "0.0\n",
      "0.0\n",
      "0.0\n"
     ]
    }
   ],
   "source": [
    "print(np.unique(achieved_torque))\n",
    "\n",
    "print(np.max(achieved_torque))\n",
    "print(np.min(achieved_torque))\n",
    "print(np.mean(achieved_torque))"
   ],
   "metadata": {
    "collapsed": false,
    "pycharm": {
     "name": "#%%\n"
    }
   }
  },
  {
   "cell_type": "code",
   "execution_count": 87,
   "metadata": {
    "pycharm": {
     "name": "#%%\n"
    }
   },
   "outputs": [],
   "source": [
    "%matplotlib qt\n",
    "\n",
    "# Plot\n",
    "plt.plot(current_torque, label='current_t')\n",
    "plt.plot(achieved_torque, label='achieved_t')\n",
    "\n",
    "plt.xlabel('Event')\n",
    "plt.ylabel('Torque [Nm]')\n",
    "plt.legend()\n",
    "plt.show()"
   ]
  }
 ]
}