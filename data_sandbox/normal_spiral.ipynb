{
 "metadata": {
  "language_info": {
   "codemirror_mode": {
    "name": "ipython",
    "version": 3
   },
   "file_extension": ".py",
   "mimetype": "text/x-python",
   "name": "python",
   "nbconvert_exporter": "python",
   "pygments_lexer": "ipython3",
   "version": "3.8.5-final"
  },
  "orig_nbformat": 2,
  "kernelspec": {
   "name": "Python 3.8.5 64-bit ('robot': conda)",
   "display_name": "Python 3.8.5 64-bit ('robot': conda)",
   "metadata": {
    "interpreter": {
     "hash": "1199123400758af4bbc77551585c1c111624f4fcf1b375c67df4b54365af3424"
    }
   }
  }
 },
 "nbformat": 4,
 "nbformat_minor": 2,
 "cells": [
  {
   "cell_type": "code",
   "execution_count": 1,
   "metadata": {},
   "outputs": [],
   "source": [
    "import numpy as np\n",
    "import matplotlib.pyplot as plt\n",
    "import pandas as pd\n",
    "\n",
    "from pathlib import Path"
   ]
  },
  {
   "cell_type": "code",
   "execution_count": 3,
   "metadata": {},
   "outputs": [],
   "source": [
    "folder = \"../test_results\"\n",
    "filename = \"spiral_normal_A_to_P.csv\" # \"test_sd.csv\" # \"three_screw_test.csv\"\n",
    "file_path = Path(folder) / Path(filename)\n",
    "\n",
    "df = pd.read_csv(file_path, sep=\" \")\n",
    "sd_busy = df['output_bit_register_70']\n",
    "process_nok = df['output_bit_register_71']\n",
    "process_ok = df['output_bit_register_72']\n",
    "\n",
    "command_res = df['output_int_register_24']\n",
    "\n",
    "achieved_torque = df['output_double_register_24']\n",
    "current_torque = df['output_double_register_25']\n",
    "target_torque = df['output_double_register_26']\n",
    "torque_angle = df['output_double_register_27']\n",
    "\n",
    "\n",
    "move_register = df['output_bit_register_65']\n",
    "loosen_register = df['output_bit_register_66']\n",
    "tighten_register = df['output_bit_register_67']\n",
    "\n",
    "\n",
    "qd_0 = df['actual_qd_0']\n",
    "qd_1 = df['actual_qd_1']\n",
    "qd_2 = df['actual_qd_2']\n",
    "qd_3 = df['actual_qd_3']\n",
    "qd_4 = df['actual_qd_4']\n",
    "qd_5 = df['actual_qd_5']\n",
    "\n",
    "t = df['output_int_register_25']"
   ]
  },
  {
   "cell_type": "code",
   "execution_count": null,
   "metadata": {},
   "outputs": [],
   "source": []
  }
 ]
}